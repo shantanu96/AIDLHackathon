{
 "cells": [
  {
   "cell_type": "code",
   "execution_count": 26,
   "metadata": {},
   "outputs": [
    {
     "name": "stdout",
     "output_type": "stream",
     "text": [
      "(4032, 3024, 3)\n"
     ]
    }
   ],
   "source": [
    "import cv2\n",
    "import numpy as np\n",
    "from matplotlib import pyplot as plt\n",
    "import pytesseract\n",
    "import imutils\n",
    "from transform import four_point_transform\n",
    "from skimage.filters import threshold_local\n",
    "import numpy as np\n",
    "\n",
    "pytesseract.pytesseract.tesseract_cmd = 'C:\\\\Program Files\\\\Tesseract-OCR\\\\tesseract.exe'\n",
    "\n",
    "image = cv2.imread('IMG_1180.jpg')\n",
    "#image = cv2.resize(img,(600,600))\n",
    "min_h = int((12.5*image.shape[0])/100)\n",
    "ratio = image.shape[0] / min_h\n",
    "print(image.shape)\n",
    "orig = image.copy()\n",
    "image = imutils.resize(image, height = min_h )\n",
    "\n",
    "gray = cv2.cvtColor(image, cv2.COLOR_BGR2GRAY)\n",
    "gray = cv2.GaussianBlur(gray, (5, 5), 0)\n",
    "edged = cv2.Canny(gray, 75, 200)\n",
    "#cv2.imshow('ada',edged)\n",
    "#cv2.waitKey(0)\n",
    "#cv2.destroyAllWindows()\n",
    "\n",
    "# print(pytesseract.image_to_string(gray))"
   ]
  },
  {
   "cell_type": "code",
   "execution_count": 27,
   "metadata": {},
   "outputs": [
    {
     "name": "stdout",
     "output_type": "stream",
     "text": [
      "contours: \n"
     ]
    },
    {
     "data": {
      "text/plain": [
       "array([[[ 18,  22,  19],\n",
       "        [ 20,  23,  21],\n",
       "        [ 20,  22,  20],\n",
       "        ...,\n",
       "        [ 58,  64,  69],\n",
       "        [124, 134, 142],\n",
       "        [192, 203, 211]],\n",
       "\n",
       "       [[ 18,  22,  19],\n",
       "        [ 19,  23,  20],\n",
       "        [ 20,  22,  20],\n",
       "        ...,\n",
       "        [ 81,  87,  92],\n",
       "        [115, 126, 134],\n",
       "        [153, 164, 172]],\n",
       "\n",
       "       [[ 20,  22,  20],\n",
       "        [ 22,  24,  22],\n",
       "        [ 20,  20,  20],\n",
       "        ...,\n",
       "        [ 86,  92,  97],\n",
       "        [123, 133, 142],\n",
       "        [162, 172, 180]],\n",
       "\n",
       "       ...,\n",
       "\n",
       "       [[ 13,  19,  18],\n",
       "        [ 12,  17,  18],\n",
       "        [  9,  15,  14],\n",
       "        ...,\n",
       "        [ 18,  24,  22],\n",
       "        [ 20,  25,  24],\n",
       "        [ 19,  25,  24]],\n",
       "\n",
       "       [[ 11,  17,  15],\n",
       "        [ 11,  16,  16],\n",
       "        [  9,  16,  15],\n",
       "        ...,\n",
       "        [ 18,  25,  23],\n",
       "        [ 19,  25,  23],\n",
       "        [ 19,  25,  24]],\n",
       "\n",
       "       [[ 11,  17,  14],\n",
       "        [ 10,  16,  14],\n",
       "        [  8,  17,  15],\n",
       "        ...,\n",
       "        [ 13,  22,  19],\n",
       "        [ 17,  26,  23],\n",
       "        [ 19,  27,  24]]], dtype=uint8)"
      ]
     },
     "execution_count": 27,
     "metadata": {},
     "output_type": "execute_result"
    }
   ],
   "source": [
    "cnts = cv2.findContours(edged.copy(), cv2.RETR_LIST, cv2.CHAIN_APPROX_SIMPLE)\n",
    "cnts = imutils.grab_contours(cnts)\n",
    "cnts = sorted(cnts, key = cv2.contourArea, reverse = True)[:5]\n",
    "\n",
    "for c in cnts:\n",
    "    peri = cv2.arcLength(c, True)\n",
    "    approx = cv2.approxPolyDP(c, 0.02 * peri, True)\n",
    "    #cv2.drawContours(image, [approx], -1, (0, 255, 0), 2)\n",
    "    if len(approx) == 4:\n",
    "        screenCnt = approx\n",
    "        break\n",
    "# show the contour (outline) of the piece of paper\n",
    "print(\"contours: \")\n",
    "cv2.drawContours(image, [screenCnt], -1, (0, 255, 0), 2)\n"
   ]
  },
  {
   "cell_type": "code",
   "execution_count": 28,
   "metadata": {},
   "outputs": [],
   "source": [
    "# apply the four point transform to obtain a top-down\n",
    "# view of the original image\n",
    "warped = four_point_transform(orig, screenCnt.reshape(4, 2) * ratio)\n",
    "# convert the warped image to grayscale, then threshold it\n",
    "# to give it that 'black and white' paper effect\n",
    "warped = cv2.cvtColor(warped, cv2.COLOR_BGR2GRAY)\n",
    "T = threshold_local(warped, 11, offset = 10, method = \"gaussian\")\n",
    "warped = (warped > T).astype(\"uint8\") * 255"
   ]
  },
  {
   "cell_type": "code",
   "execution_count": 29,
   "metadata": {},
   "outputs": [
    {
     "data": {
      "text/plain": [
       "True"
      ]
     },
     "execution_count": 29,
     "metadata": {},
     "output_type": "execute_result"
    }
   ],
   "source": [
    "#cv2.namedWindow(\"output\", cv2.WINDOW_NORMAL)                             \n",
    "imS = cv2.resize(warped, (900,500))\n",
    "\n",
    "#contrast_warped = cv2.normalize(warped,None,alpha=0,beta=255,norm_type=cv2.NORM_MINMAX)\n",
    "\n",
    "#ret,threshed = cv2.threshold(contrast_warped,120,255,cv2.THRESH_BINARY_INV)\n",
    "\n",
    "#plt.imshow(contrast_warped,cmap='gray')\n",
    "#plt.show()\n",
    "cv2.imwrite('D:/BCP/Bill1180.jpg',warped)\n",
    "#cv2.imshow(\"output\",constrast_warped)                          \n",
    "#cv2.waitKey(0) \n",
    "#cv2.destroyAllWindows()"
   ]
  },
  {
   "cell_type": "code",
   "execution_count": 21,
   "metadata": {},
   "outputs": [],
   "source": [
    "#print(pytesseract.image_to_string(warped))\n",
    "#cv2.imwrite('D:/BCP/Test.jpg',warped)"
   ]
  },
  {
   "cell_type": "code",
   "execution_count": null,
   "metadata": {},
   "outputs": [],
   "source": []
  },
  {
   "cell_type": "code",
   "execution_count": null,
   "metadata": {},
   "outputs": [],
   "source": []
  },
  {
   "cell_type": "code",
   "execution_count": null,
   "metadata": {},
   "outputs": [],
   "source": []
  }
 ],
 "metadata": {
  "kernelspec": {
   "display_name": "Python 3",
   "language": "python",
   "name": "python3"
  },
  "language_info": {
   "codemirror_mode": {
    "name": "ipython",
    "version": 3
   },
   "file_extension": ".py",
   "mimetype": "text/x-python",
   "name": "python",
   "nbconvert_exporter": "python",
   "pygments_lexer": "ipython3",
   "version": "3.7.3"
  }
 },
 "nbformat": 4,
 "nbformat_minor": 2
}
